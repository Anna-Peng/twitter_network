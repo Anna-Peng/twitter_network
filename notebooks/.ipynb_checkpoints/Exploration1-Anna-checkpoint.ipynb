{
 "cells": [
  {
   "cell_type": "code",
   "execution_count": 23,
   "metadata": {
    "ExecuteTime": {
     "end_time": "2020-12-02T16:19:02.147510Z",
     "start_time": "2020-12-02T16:18:58.423448Z"
    }
   },
   "outputs": [],
   "source": [
    "import pandas as pd\n",
    "import numpy as np\n",
    "\n",
    "import requests\n",
    "\n",
    "from bs4 import BeautifulSoup\n",
    "\n",
    "import tweepy\n",
    "\n",
    "from TweetGrabber import TweetGrabber"
   ]
  },
  {
   "cell_type": "markdown",
   "metadata": {},
   "source": [
    "Anna's Twitter API\n",
    "\n",
    "- API key\\\n",
    "    QKAoVExEv18epGCMJUJqliG7r\n",
    "    \n",
    "- API secret key\\\n",
    "    RTy7ziBruUKhhQaWQosYbXgQAFCuHc5IPCr7pnnnhlEVuQR0eU\n",
    "    \n",
    "- Bearer token\\\n",
    "    AAAAAAAAAAAAAAAAAAAAAM16KgEAAAAAg6stUJVoH6ryeyjqJeD0wXIrqas%3DDyXsv8WA1TYrIE0bjpfiAvBtdxbO3xro5dI4ntOhowjVxwBZUE"
   ]
  },
  {
   "cell_type": "code",
   "execution_count": null,
   "metadata": {},
   "outputs": [],
   "source": [
    "myAPI = "
   ]
  },
  {
   "cell_type": "markdown",
   "metadata": {},
   "source": [
    "# Scraping top 100 twitter tech experts "
   ]
  },
  {
   "cell_type": "code",
   "execution_count": 2,
   "metadata": {
    "ExecuteTime": {
     "end_time": "2020-12-02T16:19:05.718289Z",
     "start_time": "2020-12-02T16:19:04.678302Z"
    }
   },
   "outputs": [],
   "source": [
    "page = requests.get('https://www.zdnet.com/article/directory-100-technology-experts-on-twitter/')"
   ]
  },
  {
   "cell_type": "code",
   "execution_count": 3,
   "metadata": {
    "ExecuteTime": {
     "end_time": "2020-12-02T16:19:06.528876Z",
     "start_time": "2020-12-02T16:19:06.295626Z"
    },
    "scrolled": true
   },
   "outputs": [],
   "source": [
    "soup = BeautifulSoup(page.text, 'html.parser')"
   ]
  },
  {
   "cell_type": "code",
   "execution_count": 4,
   "metadata": {
    "ExecuteTime": {
     "end_time": "2020-12-02T16:19:06.891410Z",
     "start_time": "2020-12-02T16:19:06.796242Z"
    }
   },
   "outputs": [],
   "source": [
    "names = []\n",
    "user_names = []\n",
    "for ol in soup.find_all('ol'):\n",
    "    for x in ol.find_all('strong'):\n",
    "        names.append(x.get_text())\n",
    "    for x in ol.find_all('a', href=True):\n",
    "        user_names.append(x.get_text())"
   ]
  },
  {
   "cell_type": "code",
   "execution_count": 5,
   "metadata": {
    "ExecuteTime": {
     "end_time": "2020-12-02T16:19:18.270688Z",
     "start_time": "2020-12-02T16:19:18.225183Z"
    }
   },
   "outputs": [
    {
     "data": {
      "text/html": [
       "<div>\n",
       "<style scoped>\n",
       "    .dataframe tbody tr th:only-of-type {\n",
       "        vertical-align: middle;\n",
       "    }\n",
       "\n",
       "    .dataframe tbody tr th {\n",
       "        vertical-align: top;\n",
       "    }\n",
       "\n",
       "    .dataframe thead th {\n",
       "        text-align: right;\n",
       "    }\n",
       "</style>\n",
       "<table border=\"1\" class=\"dataframe\">\n",
       "  <thead>\n",
       "    <tr style=\"text-align: right;\">\n",
       "      <th></th>\n",
       "      <th>expert_names</th>\n",
       "      <th>usernames</th>\n",
       "    </tr>\n",
       "  </thead>\n",
       "  <tbody>\n",
       "    <tr>\n",
       "      <th>0</th>\n",
       "      <td>Chris Anderson</td>\n",
       "      <td>@chr1sa</td>\n",
       "    </tr>\n",
       "    <tr>\n",
       "      <th>1</th>\n",
       "      <td>Michael Arrington</td>\n",
       "      <td>@techcrunch</td>\n",
       "    </tr>\n",
       "    <tr>\n",
       "      <th>2</th>\n",
       "      <td>John Battelle</td>\n",
       "      <td>@johnbattelle</td>\n",
       "    </tr>\n",
       "    <tr>\n",
       "      <th>3</th>\n",
       "      <td>Veronica Belmont</td>\n",
       "      <td>@veronica</td>\n",
       "    </tr>\n",
       "    <tr>\n",
       "      <th>4</th>\n",
       "      <td>Randall Bennett</td>\n",
       "      <td>@randallb</td>\n",
       "    </tr>\n",
       "  </tbody>\n",
       "</table>\n",
       "</div>"
      ],
      "text/plain": [
       "        expert_names      usernames\n",
       "0     Chris Anderson        @chr1sa\n",
       "1  Michael Arrington    @techcrunch\n",
       "2      John Battelle  @johnbattelle\n",
       "3   Veronica Belmont      @veronica\n",
       "4    Randall Bennett      @randallb"
      ]
     },
     "execution_count": 5,
     "metadata": {},
     "output_type": "execute_result"
    }
   ],
   "source": [
    "experts = pd.DataFrame({'usernames': user_names, 'expert_names': names}, columns = [ 'expert_names', 'usernames'])\n",
    "experts.head()"
   ]
  },
  {
   "cell_type": "markdown",
   "metadata": {},
   "source": [
    "# Accessing twitter data "
   ]
  },
  {
   "cell_type": "markdown",
   "metadata": {
    "ExecuteTime": {
     "end_time": "2020-12-02T16:20:49.839207Z",
     "start_time": "2020-12-02T16:20:49.836089Z"
    }
   },
   "source": [
    "```puython\n",
    "consumer_key = 'ctPrHdRrbU3HD4CbvQnYOzWNN'\n",
    "consumer_secret = 'HPENaXC5uuX0IImsE2714focIOGPE1cyLEUSvTMaf7WAGv5Bnx'\n",
    "# access_token = '1323179763888988161-PGUqXaJ7aoncBWo4QmN3OTDPIY6NHU'\n",
    "# access_token_secret = 'PplXou5xCiRHqyZSb2r2PbzqRMYR2DIgQrpUMimoMbSyg'\n",
    "```"
   ]
  },
  {
   "cell_type": "code",
   "execution_count": 44,
   "metadata": {},
   "outputs": [],
   "source": [
    "t = TweetGrabber(\n",
    "    myApi = 'ctPrHdRrbU3HD4CbvQnYOzWNN',\n",
    "    sApi = 'HPENaXC5uuX0IImsE2714focIOGPE1cyLEUSvTMaf7WAGv5Bnx',\n",
    "    at = '1323179763888988161-PGUqXaJ7aoncBWo4QmN3OTDPIY6NHU',\n",
    "    sAt = 'PplXou5xCiRHqyZSb2r2PbzqRMYR2DIgQrpUMimoMbSyg')\n",
    "\n",
    "query = \"data science\"\n",
    "api_result = t.keyword_search(query,csv_prefix='tweets')\n"
   ]
  },
  {
   "cell_type": "code",
   "execution_count": 47,
   "metadata": {},
   "outputs": [
    {
     "ename": "TypeError",
     "evalue": "'NoneType' object is not iterable",
     "output_type": "error",
     "traceback": [
      "\u001b[0;31m---------------------------------------------------------------------------\u001b[0m",
      "\u001b[0;31mTypeError\u001b[0m                                 Traceback (most recent call last)",
      "\u001b[0;32m<ipython-input-47-cdc9e0fd279b>\u001b[0m in \u001b[0;36m<module>\u001b[0;34m\u001b[0m\n\u001b[0;32m----> 1\u001b[0;31m \u001b[0;32mfor\u001b[0m \u001b[0mtweet\u001b[0m \u001b[0;32min\u001b[0m \u001b[0mapi_result\u001b[0m\u001b[0;34m:\u001b[0m\u001b[0;34m\u001b[0m\u001b[0;34m\u001b[0m\u001b[0m\n\u001b[0m\u001b[1;32m      2\u001b[0m     \u001b[0mtweet\u001b[0m\u001b[0;34m.\u001b[0m\u001b[0mfull_text\u001b[0m\u001b[0;34m\u001b[0m\u001b[0;34m\u001b[0m\u001b[0m\n",
      "\u001b[0;31mTypeError\u001b[0m: 'NoneType' object is not iterable"
     ]
    }
   ],
   "source": [
    "for tweet in api_result:\n",
    "    tweet.full_text"
   ]
  },
  {
   "cell_type": "code",
   "execution_count": 48,
   "metadata": {},
   "outputs": [],
   "source": [
    "tweet_df = pd.read_csv(\"tweets.csv\")"
   ]
  },
  {
   "cell_type": "code",
   "execution_count": 50,
   "metadata": {},
   "outputs": [
    {
     "data": {
      "text/plain": [
       "0    RT @_asifbhat_: What is Data Science? | Introd...\n",
       "1    @awaisaftab Well, well, well. The more we quot...\n",
       "2    @BuddhaCAurelius @HarryDCrane We have a pletho...\n",
       "3    We are so proud that many #WomenInSTEM have co...\n",
       "4    RT @byLilyV: #FEATURED #COURSES\\n\\n#Machine #L...\n",
       "5    RT @IBMData: Whether youre an aspiring data sc...\n",
       "6    Better-informed environmental management decis...\n",
       "7    RT @anne_theriault: It feels truly bizarre tha...\n",
       "8    Dont forget they got no perimeter or high wall...\n",
       "9    RT @techtalkcorner: Learn how to make your own...\n",
       "Name: tweet_text, dtype: object"
      ]
     },
     "execution_count": 50,
     "metadata": {},
     "output_type": "execute_result"
    }
   ],
   "source": [
    "tweet_df.tweet_text"
   ]
  },
  {
   "cell_type": "code",
   "execution_count": 9,
   "metadata": {
    "ExecuteTime": {
     "end_time": "2020-12-02T16:20:58.047410Z",
     "start_time": "2020-12-02T16:20:58.031288Z"
    }
   },
   "outputs": [],
   "source": [
    "text_query = 'Tech'+ \" -filter:retweets\"\n",
    "coordinates = '37.48164467541928,-122.15819183044557,50mi'\n",
    "# until_date = '2020-11-20'\n",
    "max_tweets = 150"
   ]
  },
  {
   "cell_type": "code",
   "execution_count": 10,
   "metadata": {
    "ExecuteTime": {
     "end_time": "2020-12-02T16:20:59.656540Z",
     "start_time": "2020-12-02T16:20:59.646902Z"
    }
   },
   "outputs": [],
   "source": [
    "def query_bytext(text, coord, m_tweets):\n",
    "    tweets = tweepy.Cursor(api.search, q=text_query, \n",
    "                       geocode = coordinates, \n",
    "#                        until = until_date,\n",
    "                       tweet_mode='extended').items(m_tweets)\n",
    "    \n",
    "    return tweets"
   ]
  },
  {
   "cell_type": "code",
   "execution_count": 13,
   "metadata": {
    "ExecuteTime": {
     "end_time": "2020-11-27T17:41:13.346126Z",
     "start_time": "2020-11-27T17:41:13.340586Z"
    }
   },
   "outputs": [],
   "source": [
    "def query_byname(username, m_tweets):  \n",
    "    tweets = tweepy.Cursor(api.user_timeline,id=username, tweet_mode='extended').items(m_tweets)\n",
    "    \n",
    "    return tweets"
   ]
  },
  {
   "cell_type": "code",
   "execution_count": 14,
   "metadata": {
    "ExecuteTime": {
     "end_time": "2020-11-27T17:51:36.043656Z",
     "start_time": "2020-11-27T17:51:36.037936Z"
    }
   },
   "outputs": [],
   "source": [
    "def iterate_through_users_tweets(_iterator):\n",
    "    return [[tweet.full_text, tweet.created_at, tweet.id_str, tweet.favorite_count, \n",
    "                tweet.retweet_count, tweet.lang, tweet.in_reply_to_user_id_str, \n",
    "                tweet.is_quote_status, tweet.user.name, tweet.user.screen_name, tweet.user.id_str, \n",
    "                tweet.user.location, tweet.user.url, tweet.user.description, tweet.user.verified, \n",
    "                tweet.user.followers_count, tweet.user.friends_count, tweet.user.favourites_count, \n",
    "                tweet.user.statuses_count, tweet.user.listed_count, tweet.user.profile_image_url_https, \n",
    "                tweet.user.default_profile, tweet.user.default_profile_image] for tweet in _iterator]"
   ]
  },
  {
   "cell_type": "code",
   "execution_count": 17,
   "metadata": {
    "ExecuteTime": {
     "end_time": "2020-11-27T17:39:30.125890Z",
     "start_time": "2020-11-27T17:39:30.108174Z"
    }
   },
   "outputs": [],
   "source": [
    "def generate_dataframe(tweets):\n",
    "    tweets_list = [[tweet.full_text, tweet.created_at, tweet.id_str, tweet.favorite_count, \n",
    "                tweet.retweet_count, tweet.lang, tweet.in_reply_to_user_id_str, \n",
    "                tweet.is_quote_status, tweet.user.name, tweet.user.screen_name, tweet.user.id_str, \n",
    "                tweet.user.location, tweet.user.url, tweet.user.description, tweet.user.verified, \n",
    "                tweet.user.followers_count, tweet.user.friends_count, tweet.user.favourites_count, \n",
    "                tweet.user.statuses_count, tweet.user.listed_count, tweet.user.profile_image_url_https, \n",
    "                tweet.user.default_profile, tweet.user.default_profile_image] for tweet in tweets]\n",
    "\n",
    "    return pd.DataFrame(tweets_list,columns=['tweet_text', 'tweet_datetime', 'tweet_id', 'tweet_favourites',\n",
    "                                              'tweet_retweets', 'tweet_language', 'tweet_reply_user_id', \n",
    "                                              'tweet_quote', 'username', 'screenname', 'user_id',\n",
    "                                              'user_location', 'user_url_inbio', 'user_description', 'user_verified',\n",
    "                                              'user_followers', 'user_following', 'user_favourite_count',\n",
    "                                              'user_status_count', 'user_lists', 'url_image',\n",
    "                                              'default_theme', 'default_image'])"
   ]
  },
  {
   "cell_type": "markdown",
   "metadata": {},
   "source": [
    "THINGS TO DO NEXT:\n",
    "\n",
    "- GET NON EXPERTS TWEETS \n",
    "- GET EXPERTS TWEETS (THROUGH NAMING FUNCTION) \n",
    "\n",
    "\n",
    "- WHAT ARE THE FEATURES THAT MAKE UP AN EXPERT?"
   ]
  },
  {
   "cell_type": "markdown",
   "metadata": {},
   "source": [
    "**Resources**\n",
    "\n",
    "https://towardsdatascience.com/how-to-scrape-more-information-from-tweets-on-twitter-44fd540b8a1f"
   ]
  },
  {
   "cell_type": "code",
   "execution_count": null,
   "metadata": {},
   "outputs": [],
   "source": []
  }
 ],
 "metadata": {
  "kernelspec": {
   "display_name": "Python 3",
   "language": "python",
   "name": "python3"
  },
  "language_info": {
   "codemirror_mode": {
    "name": "ipython",
    "version": 3
   },
   "file_extension": ".py",
   "mimetype": "text/x-python",
   "name": "python",
   "nbconvert_exporter": "python",
   "pygments_lexer": "ipython3",
   "version": "3.8.3"
  }
 },
 "nbformat": 4,
 "nbformat_minor": 4
}
