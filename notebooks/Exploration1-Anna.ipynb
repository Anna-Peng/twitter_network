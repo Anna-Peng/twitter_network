{
 "cells": [
  {
   "cell_type": "code",
   "execution_count": 1,
   "metadata": {
    "ExecuteTime": {
     "end_time": "2020-12-02T16:19:02.147510Z",
     "start_time": "2020-12-02T16:18:58.423448Z"
    }
   },
   "outputs": [],
   "source": [
    "import pandas as pd\n",
    "import numpy as np\n",
    "\n",
    "import requests\n",
    "\n",
    "from bs4 import BeautifulSoup\n",
    "\n",
    "import tweepy\n",
    "\n",
    "from TweetGrabber import TweetGrabber"
   ]
  },
  {
   "cell_type": "markdown",
   "metadata": {},
   "source": [
    "Anna's Twitter API\n",
    "\n",
    "- API key\\\n",
    "    QKAoVExEv18epGCMJUJqliG7r\n",
    "    \n",
    "- API secret key\\\n",
    "    RTy7ziBruUKhhQaWQosYbXgQAFCuHc5IPCr7pnnnhlEVuQR0eU\n",
    "    \n",
    "- Bearer token\\\n",
    "    AAAAAAAAAAAAAAAAAAAAAM16KgEAAAAAg6stUJVoH6ryeyjqJeD0wXIrqas%3DDyXsv8WA1TYrIE0bjpfiAvBtdxbO3xro5dI4ntOhowjVxwBZUE"
   ]
  },
  {
   "cell_type": "markdown",
   "metadata": {},
   "source": [
    "# Scraping top 100 twitter tech experts "
   ]
  },
  {
   "cell_type": "markdown",
   "metadata": {
    "ExecuteTime": {
     "end_time": "2020-12-02T16:19:05.718289Z",
     "start_time": "2020-12-02T16:19:04.678302Z"
    }
   },
   "source": [
    "```python\n",
    "page = requests.get('https://www.zdnet.com/article/directory-100-technology-experts-on-twitter/')\n",
    "\n",
    "soup = BeautifulSoup(page.text, 'html.parser')\n",
    "\n",
    "names = []\n",
    "user_names = []\n",
    "for ol in soup.find_all('ol'):\n",
    "    for x in ol.find_all('strong'):\n",
    "        names.append(x.get_text())\n",
    "    for x in ol.find_all('a', href=True):\n",
    "        user_names.append(x.get_text())\n",
    "\n",
    "experts = pd.DataFrame({'usernames': user_names, 'expert_names': names}, columns = [ 'expert_names', 'usernames'])\n",
    "experts.head()\n",
    "```"
   ]
  },
  {
   "cell_type": "markdown",
   "metadata": {},
   "source": [
    "# Accessing twitter data "
   ]
  },
  {
   "cell_type": "markdown",
   "metadata": {
    "ExecuteTime": {
     "end_time": "2020-12-02T16:20:49.839207Z",
     "start_time": "2020-12-02T16:20:49.836089Z"
    }
   },
   "source": [
    "```puython\n",
    "consumer_key = 'ctPrHdRrbU3HD4CbvQnYOzWNN'\n",
    "consumer_secret = 'HPENaXC5uuX0IImsE2714focIOGPE1cyLEUSvTMaf7WAGv5Bnx'\n",
    "# access_token = '1323179763888988161-PGUqXaJ7aoncBWo4QmN3OTDPIY6NHU'\n",
    "# access_token_secret = 'PplXou5xCiRHqyZSb2r2PbzqRMYR2DIgQrpUMimoMbSyg'\n",
    "```"
   ]
  },
  {
   "cell_type": "code",
   "execution_count": 2,
   "metadata": {},
   "outputs": [],
   "source": [
    "t = TweetGrabber(\n",
    "    myApi = 'ctPrHdRrbU3HD4CbvQnYOzWNN',\n",
    "    sApi = 'HPENaXC5uuX0IImsE2714focIOGPE1cyLEUSvTMaf7WAGv5Bnx',\n",
    "    at = '1323179763888988161-PGUqXaJ7aoncBWo4QmN3OTDPIY6NHU',\n",
    "    sAt = 'PplXou5xCiRHqyZSb2r2PbzqRMYR2DIgQrpUMimoMbSyg')\n",
    "\n",
    "query = \"data science\"\n",
    "\n",
    "api_result = t.keyword_search(query,csv_prefix='tweets')\n"
   ]
  },
  {
   "cell_type": "code",
   "execution_count": 3,
   "metadata": {},
   "outputs": [],
   "source": [
    "for tweet in api_result:\n",
    "    tweet.full_text"
   ]
  },
  {
   "cell_type": "code",
   "execution_count": 4,
   "metadata": {},
   "outputs": [],
   "source": [
    "tweet_df = pd.read_csv(\"tweets.csv\")"
   ]
  },
  {
   "cell_type": "code",
   "execution_count": 5,
   "metadata": {},
   "outputs": [
    {
     "data": {
      "text/plain": [
       "0     RT @DineshDSouza: WATCH: @RandPaul uses actual...\n",
       "1     RT @CollierForTexas: Even Pfizer's CEO has rec...\n",
       "2     RT @florian_krammer: For everybody worried abo...\n",
       "3     RT @Ayoolafelix: I'm available for speaking en...\n",
       "4     Join #@CVSCareers - We 're Hiring ! | Director...\n",
       "5     RT @DineshDSouza: WATCH: @RandPaul uses actual...\n",
       "6     RT @DineshDSouza: WATCH: @RandPaul uses actual...\n",
       "7     RT @DataSciBae: Dont get in your own way. Data...\n",
       "8     RT @komputarist: I got a lot of support in 202...\n",
       "9     RT @LindaGrass0: Continuous Intelligence funct...\n",
       "10    @robertojirusta Tienen desde negocios digitale...\n",
       "11    RT @byLilyV: #FEATURED #COURSES\\nThe #Data #Sc...\n",
       "Name: tweet_text, dtype: object"
      ]
     },
     "execution_count": 5,
     "metadata": {},
     "output_type": "execute_result"
    }
   ],
   "source": [
    "tweet_df.tweet_text"
   ]
  },
  {
   "cell_type": "code",
   "execution_count": 9,
   "metadata": {
    "ExecuteTime": {
     "end_time": "2020-12-02T16:20:58.047410Z",
     "start_time": "2020-12-02T16:20:58.031288Z"
    }
   },
   "outputs": [],
   "source": [
    "text_query = 'Tech'+ \" -filter:retweets\"\n",
    "coordinates = '37.48164467541928,-122.15819183044557,50mi'\n",
    "# until_date = '2020-11-20'\n",
    "max_tweets = 150"
   ]
  },
  {
   "cell_type": "code",
   "execution_count": null,
   "metadata": {},
   "outputs": [],
   "source": []
  }
 ],
 "metadata": {
  "kernelspec": {
   "display_name": "Python 3",
   "language": "python",
   "name": "python3"
  },
  "language_info": {
   "codemirror_mode": {
    "name": "ipython",
    "version": 3
   },
   "file_extension": ".py",
   "mimetype": "text/x-python",
   "name": "python",
   "nbconvert_exporter": "python",
   "pygments_lexer": "ipython3",
   "version": "3.8.3"
  }
 },
 "nbformat": 4,
 "nbformat_minor": 4
}
